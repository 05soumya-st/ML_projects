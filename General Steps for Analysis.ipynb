{
 "cells": [
  {
   "cell_type": "markdown",
   "id": "1001b300-907b-4881-9516-fb33950bb471",
   "metadata": {},
   "source": [
    "**Project 1: Indian Startup Funding Analysis** \n",
    "\n",
    "**Goal:** Analyze India's **startup funding ecosystem** and extract **actionable business insights.**\n",
    "\n",
    "**Tasks:**\n",
    "\n",
    "     Clean & preprocess funding data (dates, nulls, formats) \n",
    "     Analyze: \n",
    "    o Funding trends over time \n",
    "    o Top sectors, cities, startups \n",
    "    o Active investors \n",
    "    o Investment type distributions \n",
    "     Visualize using Seaborn & Matplotlib \n",
    "     Write recommendations for investors/startup founders Analysis \n",
    "    Project"
   ]
  },
  {
   "cell_type": "markdown",
   "id": "8f4b7803-0658-4ce6-a047-d46fd98c8c6a",
   "metadata": {},
   "source": [
    "### Steps involved"
   ]
  },
  {
   "cell_type": "markdown",
   "id": "22615838-dc9b-4b55-99cf-81b7605e4491",
   "metadata": {},
   "source": [
    "1. Loading the data\n",
    "2. Basic Data Exploration; Checking for attributes of Data\n",
    "3. Data Cleaning and Preprocessing\n",
    "\n",
    "    * Drop unwanted columns\n",
    "    * Drop duplicates\n",
    "    * Handling null values\n",
    "    * Data Type Corrections\n",
    "    * Outlier Detection\n",
    "    * Standardization/Normalization\n",
    "    * Encoding Catg Variables\n",
    "4. EDA\n",
    "\n",
    "    * Statistical Summary\n",
    "        * Descriptive stats: df.describe(), df.describe(include='object')\n",
    "        * Correlation matrix: df.corr()\n",
    "        * Skewness & Kurtosis\n",
    "   \n",
    "    * Univariate\n",
    "  \n",
    "        * Histograms, KDE plots (for numerical)\n",
    "        * Bar plots / Count plots (for categorical)\n",
    "  \n",
    "    * Bivariate\n",
    "  \n",
    "        * Numerical-Numerical: Scatter plots, correlation matrix (heatmap), pairplots\n",
    "        * Categorical-Numerical: Box plots, violin plots, groupby aggregation\n",
    "        * Categorical-Categorical: Crosstab, stacked bar charts, etc\n",
    "6. Feature Engineering\n",
    "7. Basic Insights\n",
    "8. Model Building"
   ]
  },
  {
   "cell_type": "code",
   "execution_count": null,
   "id": "4e4bfe51-a96c-497e-8953-a15ee8fe3c76",
   "metadata": {},
   "outputs": [],
   "source": []
  },
  {
   "cell_type": "code",
   "execution_count": null,
   "id": "865a1dfb-0cbf-40ee-bbe2-12869f8a7810",
   "metadata": {},
   "outputs": [],
   "source": []
  }
 ],
 "metadata": {
  "kernelspec": {
   "display_name": "Python 3 (ipykernel)",
   "language": "python",
   "name": "python3"
  },
  "language_info": {
   "codemirror_mode": {
    "name": "ipython",
    "version": 3
   },
   "file_extension": ".py",
   "mimetype": "text/x-python",
   "name": "python",
   "nbconvert_exporter": "python",
   "pygments_lexer": "ipython3",
   "version": "3.13.2"
  }
 },
 "nbformat": 4,
 "nbformat_minor": 5
}
